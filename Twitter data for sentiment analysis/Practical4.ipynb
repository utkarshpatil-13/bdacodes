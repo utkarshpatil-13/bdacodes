{
  "metadata": {
    "kernelspec": {
      "language": "python",
      "display_name": "Python 3",
      "name": "python3"
    },
    "language_info": {
      "name": "python",
      "version": "3.7.9",
      "mimetype": "text/x-python",
      "codemirror_mode": {
        "name": "ipython",
        "version": 3
      },
      "pygments_lexer": "ipython3",
      "nbconvert_exporter": "python",
      "file_extension": ".py"
    },
    "kaggle": {
      "accelerator": "none",
      "dataSources": [
        {
          "sourceId": 4140,
          "sourceType": "datasetVersion",
          "datasetId": 2477
        }
      ],
      "dockerImageVersionId": 30075,
      "isInternetEnabled": false,
      "language": "python",
      "sourceType": "notebook",
      "isGpuEnabled": false
    },
    "colab": {
      "provenance": []
    }
  },
  "nbformat_minor": 0,
  "nbformat": 4,
  "cells": [
    {
      "cell_type": "markdown",
      "source": [
        "## **Practical No 3:Twitter Sentiment Analysis**"
      ],
      "metadata": {
        "id": "KLOx6dspd7MW"
      }
    },
    {
      "cell_type": "markdown",
      "source": [
        "<div class=\"alert alert-block alert-danger\">  \n",
        "<h2><center><strong>Import Libraries</strong></center></h2>\n",
        "        \n",
        "</div>"
      ],
      "metadata": {
        "papermill": {
          "duration": 0.065466,
          "end_time": "2020-11-30T07:38:51.578836",
          "exception": false,
          "start_time": "2020-11-30T07:38:51.51337",
          "status": "completed"
        },
        "tags": [],
        "id": "FQUkJ150dkPt"
      }
    },
    {
      "cell_type": "code",
      "source": [
        "import numpy as np\n",
        "import pandas as pd\n",
        "import seaborn as sns\n",
        "import matplotlib.pyplot as plt\n",
        "plt.style.use('ggplot')\n",
        "from sklearn.metrics import roc_curve, auc\n",
        "from sklearn.metrics import classification_report, confusion_matrix\n",
        "import nltk\n",
        "from nltk.corpus import stopwords\n",
        "from nltk.stem import PorterStemmer\n",
        "from sklearn.model_selection import train_test_split\n",
        "from mlxtend.plotting import plot_confusion_matrix\n",
        "import matplotlib.cm as cm\n",
        "from matplotlib import rcParams\n",
        "from collections import Counter\n",
        "from nltk.tokenize import RegexpTokenizer\n",
        "import re\n",
        "import string\n",
        "from tensorflow.keras.layers import LSTM, Activation, Dense, Dropout, Input, Embedding\n",
        "from tensorflow.keras.models import Model\n",
        "from tensorflow.keras.optimizers import RMSprop\n",
        "from tensorflow.keras.preprocessing.text import Tokenizer\n",
        "from tensorflow.keras.preprocessing import sequence\n",
        "%matplotlib inline\n",
        "\n",
        "import warnings\n",
        "warnings.filterwarnings(\"ignore\")"
      ],
      "metadata": {
        "id": "-E4TvIVLMa73",
        "scrolled": true,
        "execution": {
          "iopub.status.busy": "2023-04-03T08:06:57.321911Z",
          "iopub.execute_input": "2023-04-03T08:06:57.322357Z",
          "iopub.status.idle": "2023-04-03T08:06:59.98071Z",
          "shell.execute_reply.started": "2023-04-03T08:06:57.322267Z",
          "shell.execute_reply": "2023-04-03T08:06:59.979609Z"
        },
        "trusted": true
      },
      "execution_count": null,
      "outputs": []
    },
    {
      "cell_type": "code",
      "source": [
        "from google.colab import drive\n",
        "drive.mount('/content/drive')"
      ],
      "metadata": {
        "colab": {
          "base_uri": "https://localhost:8080/"
        },
        "id": "VOvRrpCqd4cz",
        "outputId": "3d69e6ad-ddd7-47d9-d58f-b352a5edf9cc"
      },
      "execution_count": null,
      "outputs": [
        {
          "output_type": "stream",
          "name": "stdout",
          "text": [
            "Drive already mounted at /content/drive; to attempt to forcibly remount, call drive.mount(\"/content/drive\", force_remount=True).\n"
          ]
        }
      ]
    },
    {
      "cell_type": "markdown",
      "source": [
        "<div class=\"alert alert-block alert-danger\">  \n",
        "<h2><center><strong>Loading the data</strong></center></h2>\n",
        "        \n",
        "</div>"
      ],
      "metadata": {
        "papermill": {
          "duration": 0.065466,
          "end_time": "2020-11-30T07:38:51.578836",
          "exception": false,
          "start_time": "2020-11-30T07:38:51.51337",
          "status": "completed"
        },
        "tags": [],
        "id": "3GNtQOyVcQ8n"
      }
    },
    {
      "cell_type": "code",
      "source": [
        "data = pd.read_csv(\"/content/drive/MyDrive/BigDataAnalytics/Practical3/train_1600000.csv\", encoding = \"ISO-8859-1\", engine=\"python\")\n",
        "data.columns = [\"label\", \"time\", \"date\", \"query\", \"username\", \"text\"]"
      ],
      "metadata": {
        "execution": {
          "iopub.status.busy": "2023-04-03T08:06:59.983151Z",
          "iopub.execute_input": "2023-04-03T08:06:59.983639Z",
          "iopub.status.idle": "2023-04-03T08:07:13.73835Z",
          "shell.execute_reply.started": "2023-04-03T08:06:59.983591Z",
          "shell.execute_reply": "2023-04-03T08:07:13.73733Z"
        },
        "trusted": true,
        "id": "_w2bopAUcQ8n"
      },
      "execution_count": null,
      "outputs": []
    },
    {
      "cell_type": "markdown",
      "source": [
        "<div class=\"alert alert-block alert-danger\">  \n",
        "<h2><center><strong>Exploratory data analysis</strong></center></h2>\n",
        "        \n",
        "</div>"
      ],
      "metadata": {
        "papermill": {
          "duration": 0.065466,
          "end_time": "2020-11-30T07:38:51.578836",
          "exception": false,
          "start_time": "2020-11-30T07:38:51.51337",
          "status": "completed"
        },
        "tags": [],
        "id": "Vvm1Xy1wcQ8n"
      }
    },
    {
      "cell_type": "markdown",
      "source": [
        "#### Five top records of data"
      ],
      "metadata": {
        "id": "yb4aDr3bcQ8n"
      }
    },
    {
      "cell_type": "code",
      "source": [
        "data.head()"
      ],
      "metadata": {
        "execution": {
          "iopub.status.busy": "2023-04-03T08:07:13.740119Z",
          "iopub.execute_input": "2023-04-03T08:07:13.740591Z",
          "iopub.status.idle": "2023-04-03T08:07:13.762702Z",
          "shell.execute_reply.started": "2023-04-03T08:07:13.740542Z",
          "shell.execute_reply": "2023-04-03T08:07:13.761647Z"
        },
        "trusted": true,
        "colab": {
          "base_uri": "https://localhost:8080/",
          "height": 206
        },
        "id": "82nLYY5ocQ8n",
        "outputId": "15c66b81-a21f-435e-d5e8-bc1405bed78e"
      },
      "execution_count": null,
      "outputs": [
        {
          "output_type": "execute_result",
          "data": {
            "text/plain": [
              "   label        time                          date     query       username  \\\n",
              "0      0  1467810672  Mon Apr 06 22:19:49 PDT 2009  NO_QUERY  scotthamilton   \n",
              "1      0  1467810917  Mon Apr 06 22:19:53 PDT 2009  NO_QUERY       mattycus   \n",
              "2      0  1467811184  Mon Apr 06 22:19:57 PDT 2009  NO_QUERY        ElleCTF   \n",
              "3      0  1467811193  Mon Apr 06 22:19:57 PDT 2009  NO_QUERY         Karoli   \n",
              "4      0  1467811372  Mon Apr 06 22:20:00 PDT 2009  NO_QUERY       joy_wolf   \n",
              "\n",
              "                                                text  \n",
              "0  is upset that he can't update his Facebook by ...  \n",
              "1  @Kenichan I dived many times for the ball. Man...  \n",
              "2    my whole body feels itchy and like its on fire   \n",
              "3  @nationwideclass no, it's not behaving at all....  \n",
              "4                      @Kwesidei not the whole crew   "
            ],
            "text/html": [
              "\n",
              "  <div id=\"df-77cf4ec3-ea17-4f64-90f6-8e96a519b677\" class=\"colab-df-container\">\n",
              "    <div>\n",
              "<style scoped>\n",
              "    .dataframe tbody tr th:only-of-type {\n",
              "        vertical-align: middle;\n",
              "    }\n",
              "\n",
              "    .dataframe tbody tr th {\n",
              "        vertical-align: top;\n",
              "    }\n",
              "\n",
              "    .dataframe thead th {\n",
              "        text-align: right;\n",
              "    }\n",
              "</style>\n",
              "<table border=\"1\" class=\"dataframe\">\n",
              "  <thead>\n",
              "    <tr style=\"text-align: right;\">\n",
              "      <th></th>\n",
              "      <th>label</th>\n",
              "      <th>time</th>\n",
              "      <th>date</th>\n",
              "      <th>query</th>\n",
              "      <th>username</th>\n",
              "      <th>text</th>\n",
              "    </tr>\n",
              "  </thead>\n",
              "  <tbody>\n",
              "    <tr>\n",
              "      <th>0</th>\n",
              "      <td>0</td>\n",
              "      <td>1467810672</td>\n",
              "      <td>Mon Apr 06 22:19:49 PDT 2009</td>\n",
              "      <td>NO_QUERY</td>\n",
              "      <td>scotthamilton</td>\n",
              "      <td>is upset that he can't update his Facebook by ...</td>\n",
              "    </tr>\n",
              "    <tr>\n",
              "      <th>1</th>\n",
              "      <td>0</td>\n",
              "      <td>1467810917</td>\n",
              "      <td>Mon Apr 06 22:19:53 PDT 2009</td>\n",
              "      <td>NO_QUERY</td>\n",
              "      <td>mattycus</td>\n",
              "      <td>@Kenichan I dived many times for the ball. Man...</td>\n",
              "    </tr>\n",
              "    <tr>\n",
              "      <th>2</th>\n",
              "      <td>0</td>\n",
              "      <td>1467811184</td>\n",
              "      <td>Mon Apr 06 22:19:57 PDT 2009</td>\n",
              "      <td>NO_QUERY</td>\n",
              "      <td>ElleCTF</td>\n",
              "      <td>my whole body feels itchy and like its on fire</td>\n",
              "    </tr>\n",
              "    <tr>\n",
              "      <th>3</th>\n",
              "      <td>0</td>\n",
              "      <td>1467811193</td>\n",
              "      <td>Mon Apr 06 22:19:57 PDT 2009</td>\n",
              "      <td>NO_QUERY</td>\n",
              "      <td>Karoli</td>\n",
              "      <td>@nationwideclass no, it's not behaving at all....</td>\n",
              "    </tr>\n",
              "    <tr>\n",
              "      <th>4</th>\n",
              "      <td>0</td>\n",
              "      <td>1467811372</td>\n",
              "      <td>Mon Apr 06 22:20:00 PDT 2009</td>\n",
              "      <td>NO_QUERY</td>\n",
              "      <td>joy_wolf</td>\n",
              "      <td>@Kwesidei not the whole crew</td>\n",
              "    </tr>\n",
              "  </tbody>\n",
              "</table>\n",
              "</div>\n",
              "    <div class=\"colab-df-buttons\">\n",
              "\n",
              "  <div class=\"colab-df-container\">\n",
              "    <button class=\"colab-df-convert\" onclick=\"convertToInteractive('df-77cf4ec3-ea17-4f64-90f6-8e96a519b677')\"\n",
              "            title=\"Convert this dataframe to an interactive table.\"\n",
              "            style=\"display:none;\">\n",
              "\n",
              "  <svg xmlns=\"http://www.w3.org/2000/svg\" height=\"24px\" viewBox=\"0 -960 960 960\">\n",
              "    <path d=\"M120-120v-720h720v720H120Zm60-500h600v-160H180v160Zm220 220h160v-160H400v160Zm0 220h160v-160H400v160ZM180-400h160v-160H180v160Zm440 0h160v-160H620v160ZM180-180h160v-160H180v160Zm440 0h160v-160H620v160Z\"/>\n",
              "  </svg>\n",
              "    </button>\n",
              "\n",
              "  <style>\n",
              "    .colab-df-container {\n",
              "      display:flex;\n",
              "      gap: 12px;\n",
              "    }\n",
              "\n",
              "    .colab-df-convert {\n",
              "      background-color: #E8F0FE;\n",
              "      border: none;\n",
              "      border-radius: 50%;\n",
              "      cursor: pointer;\n",
              "      display: none;\n",
              "      fill: #1967D2;\n",
              "      height: 32px;\n",
              "      padding: 0 0 0 0;\n",
              "      width: 32px;\n",
              "    }\n",
              "\n",
              "    .colab-df-convert:hover {\n",
              "      background-color: #E2EBFA;\n",
              "      box-shadow: 0px 1px 2px rgba(60, 64, 67, 0.3), 0px 1px 3px 1px rgba(60, 64, 67, 0.15);\n",
              "      fill: #174EA6;\n",
              "    }\n",
              "\n",
              "    .colab-df-buttons div {\n",
              "      margin-bottom: 4px;\n",
              "    }\n",
              "\n",
              "    [theme=dark] .colab-df-convert {\n",
              "      background-color: #3B4455;\n",
              "      fill: #D2E3FC;\n",
              "    }\n",
              "\n",
              "    [theme=dark] .colab-df-convert:hover {\n",
              "      background-color: #434B5C;\n",
              "      box-shadow: 0px 1px 3px 1px rgba(0, 0, 0, 0.15);\n",
              "      filter: drop-shadow(0px 1px 2px rgba(0, 0, 0, 0.3));\n",
              "      fill: #FFFFFF;\n",
              "    }\n",
              "  </style>\n",
              "\n",
              "    <script>\n",
              "      const buttonEl =\n",
              "        document.querySelector('#df-77cf4ec3-ea17-4f64-90f6-8e96a519b677 button.colab-df-convert');\n",
              "      buttonEl.style.display =\n",
              "        google.colab.kernel.accessAllowed ? 'block' : 'none';\n",
              "\n",
              "      async function convertToInteractive(key) {\n",
              "        const element = document.querySelector('#df-77cf4ec3-ea17-4f64-90f6-8e96a519b677');\n",
              "        const dataTable =\n",
              "          await google.colab.kernel.invokeFunction('convertToInteractive',\n",
              "                                                    [key], {});\n",
              "        if (!dataTable) return;\n",
              "\n",
              "        const docLinkHtml = 'Like what you see? Visit the ' +\n",
              "          '<a target=\"_blank\" href=https://colab.research.google.com/notebooks/data_table.ipynb>data table notebook</a>'\n",
              "          + ' to learn more about interactive tables.';\n",
              "        element.innerHTML = '';\n",
              "        dataTable['output_type'] = 'display_data';\n",
              "        await google.colab.output.renderOutput(dataTable, element);\n",
              "        const docLink = document.createElement('div');\n",
              "        docLink.innerHTML = docLinkHtml;\n",
              "        element.appendChild(docLink);\n",
              "      }\n",
              "    </script>\n",
              "  </div>\n",
              "\n",
              "\n",
              "<div id=\"df-dee59f38-bce3-4010-95f6-822a110d9f1e\">\n",
              "  <button class=\"colab-df-quickchart\" onclick=\"quickchart('df-dee59f38-bce3-4010-95f6-822a110d9f1e')\"\n",
              "            title=\"Suggest charts\"\n",
              "            style=\"display:none;\">\n",
              "\n",
              "<svg xmlns=\"http://www.w3.org/2000/svg\" height=\"24px\"viewBox=\"0 0 24 24\"\n",
              "     width=\"24px\">\n",
              "    <g>\n",
              "        <path d=\"M19 3H5c-1.1 0-2 .9-2 2v14c0 1.1.9 2 2 2h14c1.1 0 2-.9 2-2V5c0-1.1-.9-2-2-2zM9 17H7v-7h2v7zm4 0h-2V7h2v10zm4 0h-2v-4h2v4z\"/>\n",
              "    </g>\n",
              "</svg>\n",
              "  </button>\n",
              "\n",
              "<style>\n",
              "  .colab-df-quickchart {\n",
              "      --bg-color: #E8F0FE;\n",
              "      --fill-color: #1967D2;\n",
              "      --hover-bg-color: #E2EBFA;\n",
              "      --hover-fill-color: #174EA6;\n",
              "      --disabled-fill-color: #AAA;\n",
              "      --disabled-bg-color: #DDD;\n",
              "  }\n",
              "\n",
              "  [theme=dark] .colab-df-quickchart {\n",
              "      --bg-color: #3B4455;\n",
              "      --fill-color: #D2E3FC;\n",
              "      --hover-bg-color: #434B5C;\n",
              "      --hover-fill-color: #FFFFFF;\n",
              "      --disabled-bg-color: #3B4455;\n",
              "      --disabled-fill-color: #666;\n",
              "  }\n",
              "\n",
              "  .colab-df-quickchart {\n",
              "    background-color: var(--bg-color);\n",
              "    border: none;\n",
              "    border-radius: 50%;\n",
              "    cursor: pointer;\n",
              "    display: none;\n",
              "    fill: var(--fill-color);\n",
              "    height: 32px;\n",
              "    padding: 0;\n",
              "    width: 32px;\n",
              "  }\n",
              "\n",
              "  .colab-df-quickchart:hover {\n",
              "    background-color: var(--hover-bg-color);\n",
              "    box-shadow: 0 1px 2px rgba(60, 64, 67, 0.3), 0 1px 3px 1px rgba(60, 64, 67, 0.15);\n",
              "    fill: var(--button-hover-fill-color);\n",
              "  }\n",
              "\n",
              "  .colab-df-quickchart-complete:disabled,\n",
              "  .colab-df-quickchart-complete:disabled:hover {\n",
              "    background-color: var(--disabled-bg-color);\n",
              "    fill: var(--disabled-fill-color);\n",
              "    box-shadow: none;\n",
              "  }\n",
              "\n",
              "  .colab-df-spinner {\n",
              "    border: 2px solid var(--fill-color);\n",
              "    border-color: transparent;\n",
              "    border-bottom-color: var(--fill-color);\n",
              "    animation:\n",
              "      spin 1s steps(1) infinite;\n",
              "  }\n",
              "\n",
              "  @keyframes spin {\n",
              "    0% {\n",
              "      border-color: transparent;\n",
              "      border-bottom-color: var(--fill-color);\n",
              "      border-left-color: var(--fill-color);\n",
              "    }\n",
              "    20% {\n",
              "      border-color: transparent;\n",
              "      border-left-color: var(--fill-color);\n",
              "      border-top-color: var(--fill-color);\n",
              "    }\n",
              "    30% {\n",
              "      border-color: transparent;\n",
              "      border-left-color: var(--fill-color);\n",
              "      border-top-color: var(--fill-color);\n",
              "      border-right-color: var(--fill-color);\n",
              "    }\n",
              "    40% {\n",
              "      border-color: transparent;\n",
              "      border-right-color: var(--fill-color);\n",
              "      border-top-color: var(--fill-color);\n",
              "    }\n",
              "    60% {\n",
              "      border-color: transparent;\n",
              "      border-right-color: var(--fill-color);\n",
              "    }\n",
              "    80% {\n",
              "      border-color: transparent;\n",
              "      border-right-color: var(--fill-color);\n",
              "      border-bottom-color: var(--fill-color);\n",
              "    }\n",
              "    90% {\n",
              "      border-color: transparent;\n",
              "      border-bottom-color: var(--fill-color);\n",
              "    }\n",
              "  }\n",
              "</style>\n",
              "\n",
              "  <script>\n",
              "    async function quickchart(key) {\n",
              "      const quickchartButtonEl =\n",
              "        document.querySelector('#' + key + ' button');\n",
              "      quickchartButtonEl.disabled = true;  // To prevent multiple clicks.\n",
              "      quickchartButtonEl.classList.add('colab-df-spinner');\n",
              "      try {\n",
              "        const charts = await google.colab.kernel.invokeFunction(\n",
              "            'suggestCharts', [key], {});\n",
              "      } catch (error) {\n",
              "        console.error('Error during call to suggestCharts:', error);\n",
              "      }\n",
              "      quickchartButtonEl.classList.remove('colab-df-spinner');\n",
              "      quickchartButtonEl.classList.add('colab-df-quickchart-complete');\n",
              "    }\n",
              "    (() => {\n",
              "      let quickchartButtonEl =\n",
              "        document.querySelector('#df-dee59f38-bce3-4010-95f6-822a110d9f1e button');\n",
              "      quickchartButtonEl.style.display =\n",
              "        google.colab.kernel.accessAllowed ? 'block' : 'none';\n",
              "    })();\n",
              "  </script>\n",
              "</div>\n",
              "    </div>\n",
              "  </div>\n"
            ],
            "application/vnd.google.colaboratory.intrinsic+json": {
              "type": "dataframe",
              "variable_name": "data"
            }
          },
          "metadata": {},
          "execution_count": 30
        }
      ]
    },
    {
      "cell_type": "markdown",
      "source": [
        "#### Five last records of data"
      ],
      "metadata": {
        "id": "NCdK8OwlcQ8n"
      }
    },
    {
      "cell_type": "code",
      "source": [
        "data.tail()"
      ],
      "metadata": {
        "execution": {
          "iopub.status.busy": "2023-04-03T08:07:13.764636Z",
          "iopub.execute_input": "2023-04-03T08:07:13.764971Z",
          "iopub.status.idle": "2023-04-03T08:07:13.780465Z",
          "shell.execute_reply.started": "2023-04-03T08:07:13.764937Z",
          "shell.execute_reply": "2023-04-03T08:07:13.779237Z"
        },
        "trusted": true,
        "colab": {
          "base_uri": "https://localhost:8080/",
          "height": 206
        },
        "id": "iDoeeiY6cQ8o",
        "outputId": "77b5568f-4564-494f-cfb0-b50d16af27fd"
      },
      "execution_count": null,
      "outputs": [
        {
          "output_type": "execute_result",
          "data": {
            "text/plain": [
              "         label        time                          date     query  \\\n",
              "1599994      4  2193601966  Tue Jun 16 08:40:49 PDT 2009  NO_QUERY   \n",
              "1599995      4  2193601969  Tue Jun 16 08:40:49 PDT 2009  NO_QUERY   \n",
              "1599996      4  2193601991  Tue Jun 16 08:40:49 PDT 2009  NO_QUERY   \n",
              "1599997      4  2193602064  Tue Jun 16 08:40:49 PDT 2009  NO_QUERY   \n",
              "1599998      4  2193602129  Tue Jun 16 08:40:50 PDT 2009  NO_QUERY   \n",
              "\n",
              "                username                                               text  \n",
              "1599994  AmandaMarie1028  Just woke up. Having no school is the best fee...  \n",
              "1599995      TheWDBoards  TheWDB.com - Very cool to hear old Walt interv...  \n",
              "1599996           bpbabe  Are you ready for your MoJo Makeover? Ask me f...  \n",
              "1599997     tinydiamondz  Happy 38th Birthday to my boo of alll time!!! ...  \n",
              "1599998   RyanTrevMorris  happy #charitytuesday @theNSPCC @SparksCharity...  "
            ],
            "text/html": [
              "\n",
              "  <div id=\"df-504d0e9b-7c0a-48c5-971f-c28c8b5de775\" class=\"colab-df-container\">\n",
              "    <div>\n",
              "<style scoped>\n",
              "    .dataframe tbody tr th:only-of-type {\n",
              "        vertical-align: middle;\n",
              "    }\n",
              "\n",
              "    .dataframe tbody tr th {\n",
              "        vertical-align: top;\n",
              "    }\n",
              "\n",
              "    .dataframe thead th {\n",
              "        text-align: right;\n",
              "    }\n",
              "</style>\n",
              "<table border=\"1\" class=\"dataframe\">\n",
              "  <thead>\n",
              "    <tr style=\"text-align: right;\">\n",
              "      <th></th>\n",
              "      <th>label</th>\n",
              "      <th>time</th>\n",
              "      <th>date</th>\n",
              "      <th>query</th>\n",
              "      <th>username</th>\n",
              "      <th>text</th>\n",
              "    </tr>\n",
              "  </thead>\n",
              "  <tbody>\n",
              "    <tr>\n",
              "      <th>1599994</th>\n",
              "      <td>4</td>\n",
              "      <td>2193601966</td>\n",
              "      <td>Tue Jun 16 08:40:49 PDT 2009</td>\n",
              "      <td>NO_QUERY</td>\n",
              "      <td>AmandaMarie1028</td>\n",
              "      <td>Just woke up. Having no school is the best fee...</td>\n",
              "    </tr>\n",
              "    <tr>\n",
              "      <th>1599995</th>\n",
              "      <td>4</td>\n",
              "      <td>2193601969</td>\n",
              "      <td>Tue Jun 16 08:40:49 PDT 2009</td>\n",
              "      <td>NO_QUERY</td>\n",
              "      <td>TheWDBoards</td>\n",
              "      <td>TheWDB.com - Very cool to hear old Walt interv...</td>\n",
              "    </tr>\n",
              "    <tr>\n",
              "      <th>1599996</th>\n",
              "      <td>4</td>\n",
              "      <td>2193601991</td>\n",
              "      <td>Tue Jun 16 08:40:49 PDT 2009</td>\n",
              "      <td>NO_QUERY</td>\n",
              "      <td>bpbabe</td>\n",
              "      <td>Are you ready for your MoJo Makeover? Ask me f...</td>\n",
              "    </tr>\n",
              "    <tr>\n",
              "      <th>1599997</th>\n",
              "      <td>4</td>\n",
              "      <td>2193602064</td>\n",
              "      <td>Tue Jun 16 08:40:49 PDT 2009</td>\n",
              "      <td>NO_QUERY</td>\n",
              "      <td>tinydiamondz</td>\n",
              "      <td>Happy 38th Birthday to my boo of alll time!!! ...</td>\n",
              "    </tr>\n",
              "    <tr>\n",
              "      <th>1599998</th>\n",
              "      <td>4</td>\n",
              "      <td>2193602129</td>\n",
              "      <td>Tue Jun 16 08:40:50 PDT 2009</td>\n",
              "      <td>NO_QUERY</td>\n",
              "      <td>RyanTrevMorris</td>\n",
              "      <td>happy #charitytuesday @theNSPCC @SparksCharity...</td>\n",
              "    </tr>\n",
              "  </tbody>\n",
              "</table>\n",
              "</div>\n",
              "    <div class=\"colab-df-buttons\">\n",
              "\n",
              "  <div class=\"colab-df-container\">\n",
              "    <button class=\"colab-df-convert\" onclick=\"convertToInteractive('df-504d0e9b-7c0a-48c5-971f-c28c8b5de775')\"\n",
              "            title=\"Convert this dataframe to an interactive table.\"\n",
              "            style=\"display:none;\">\n",
              "\n",
              "  <svg xmlns=\"http://www.w3.org/2000/svg\" height=\"24px\" viewBox=\"0 -960 960 960\">\n",
              "    <path d=\"M120-120v-720h720v720H120Zm60-500h600v-160H180v160Zm220 220h160v-160H400v160Zm0 220h160v-160H400v160ZM180-400h160v-160H180v160Zm440 0h160v-160H620v160ZM180-180h160v-160H180v160Zm440 0h160v-160H620v160Z\"/>\n",
              "  </svg>\n",
              "    </button>\n",
              "\n",
              "  <style>\n",
              "    .colab-df-container {\n",
              "      display:flex;\n",
              "      gap: 12px;\n",
              "    }\n",
              "\n",
              "    .colab-df-convert {\n",
              "      background-color: #E8F0FE;\n",
              "      border: none;\n",
              "      border-radius: 50%;\n",
              "      cursor: pointer;\n",
              "      display: none;\n",
              "      fill: #1967D2;\n",
              "      height: 32px;\n",
              "      padding: 0 0 0 0;\n",
              "      width: 32px;\n",
              "    }\n",
              "\n",
              "    .colab-df-convert:hover {\n",
              "      background-color: #E2EBFA;\n",
              "      box-shadow: 0px 1px 2px rgba(60, 64, 67, 0.3), 0px 1px 3px 1px rgba(60, 64, 67, 0.15);\n",
              "      fill: #174EA6;\n",
              "    }\n",
              "\n",
              "    .colab-df-buttons div {\n",
              "      margin-bottom: 4px;\n",
              "    }\n",
              "\n",
              "    [theme=dark] .colab-df-convert {\n",
              "      background-color: #3B4455;\n",
              "      fill: #D2E3FC;\n",
              "    }\n",
              "\n",
              "    [theme=dark] .colab-df-convert:hover {\n",
              "      background-color: #434B5C;\n",
              "      box-shadow: 0px 1px 3px 1px rgba(0, 0, 0, 0.15);\n",
              "      filter: drop-shadow(0px 1px 2px rgba(0, 0, 0, 0.3));\n",
              "      fill: #FFFFFF;\n",
              "    }\n",
              "  </style>\n",
              "\n",
              "    <script>\n",
              "      const buttonEl =\n",
              "        document.querySelector('#df-504d0e9b-7c0a-48c5-971f-c28c8b5de775 button.colab-df-convert');\n",
              "      buttonEl.style.display =\n",
              "        google.colab.kernel.accessAllowed ? 'block' : 'none';\n",
              "\n",
              "      async function convertToInteractive(key) {\n",
              "        const element = document.querySelector('#df-504d0e9b-7c0a-48c5-971f-c28c8b5de775');\n",
              "        const dataTable =\n",
              "          await google.colab.kernel.invokeFunction('convertToInteractive',\n",
              "                                                    [key], {});\n",
              "        if (!dataTable) return;\n",
              "\n",
              "        const docLinkHtml = 'Like what you see? Visit the ' +\n",
              "          '<a target=\"_blank\" href=https://colab.research.google.com/notebooks/data_table.ipynb>data table notebook</a>'\n",
              "          + ' to learn more about interactive tables.';\n",
              "        element.innerHTML = '';\n",
              "        dataTable['output_type'] = 'display_data';\n",
              "        await google.colab.output.renderOutput(dataTable, element);\n",
              "        const docLink = document.createElement('div');\n",
              "        docLink.innerHTML = docLinkHtml;\n",
              "        element.appendChild(docLink);\n",
              "      }\n",
              "    </script>\n",
              "  </div>\n",
              "\n",
              "\n",
              "<div id=\"df-13f61449-8546-4315-8c8a-77af28839ad6\">\n",
              "  <button class=\"colab-df-quickchart\" onclick=\"quickchart('df-13f61449-8546-4315-8c8a-77af28839ad6')\"\n",
              "            title=\"Suggest charts\"\n",
              "            style=\"display:none;\">\n",
              "\n",
              "<svg xmlns=\"http://www.w3.org/2000/svg\" height=\"24px\"viewBox=\"0 0 24 24\"\n",
              "     width=\"24px\">\n",
              "    <g>\n",
              "        <path d=\"M19 3H5c-1.1 0-2 .9-2 2v14c0 1.1.9 2 2 2h14c1.1 0 2-.9 2-2V5c0-1.1-.9-2-2-2zM9 17H7v-7h2v7zm4 0h-2V7h2v10zm4 0h-2v-4h2v4z\"/>\n",
              "    </g>\n",
              "</svg>\n",
              "  </button>\n",
              "\n",
              "<style>\n",
              "  .colab-df-quickchart {\n",
              "      --bg-color: #E8F0FE;\n",
              "      --fill-color: #1967D2;\n",
              "      --hover-bg-color: #E2EBFA;\n",
              "      --hover-fill-color: #174EA6;\n",
              "      --disabled-fill-color: #AAA;\n",
              "      --disabled-bg-color: #DDD;\n",
              "  }\n",
              "\n",
              "  [theme=dark] .colab-df-quickchart {\n",
              "      --bg-color: #3B4455;\n",
              "      --fill-color: #D2E3FC;\n",
              "      --hover-bg-color: #434B5C;\n",
              "      --hover-fill-color: #FFFFFF;\n",
              "      --disabled-bg-color: #3B4455;\n",
              "      --disabled-fill-color: #666;\n",
              "  }\n",
              "\n",
              "  .colab-df-quickchart {\n",
              "    background-color: var(--bg-color);\n",
              "    border: none;\n",
              "    border-radius: 50%;\n",
              "    cursor: pointer;\n",
              "    display: none;\n",
              "    fill: var(--fill-color);\n",
              "    height: 32px;\n",
              "    padding: 0;\n",
              "    width: 32px;\n",
              "  }\n",
              "\n",
              "  .colab-df-quickchart:hover {\n",
              "    background-color: var(--hover-bg-color);\n",
              "    box-shadow: 0 1px 2px rgba(60, 64, 67, 0.3), 0 1px 3px 1px rgba(60, 64, 67, 0.15);\n",
              "    fill: var(--button-hover-fill-color);\n",
              "  }\n",
              "\n",
              "  .colab-df-quickchart-complete:disabled,\n",
              "  .colab-df-quickchart-complete:disabled:hover {\n",
              "    background-color: var(--disabled-bg-color);\n",
              "    fill: var(--disabled-fill-color);\n",
              "    box-shadow: none;\n",
              "  }\n",
              "\n",
              "  .colab-df-spinner {\n",
              "    border: 2px solid var(--fill-color);\n",
              "    border-color: transparent;\n",
              "    border-bottom-color: var(--fill-color);\n",
              "    animation:\n",
              "      spin 1s steps(1) infinite;\n",
              "  }\n",
              "\n",
              "  @keyframes spin {\n",
              "    0% {\n",
              "      border-color: transparent;\n",
              "      border-bottom-color: var(--fill-color);\n",
              "      border-left-color: var(--fill-color);\n",
              "    }\n",
              "    20% {\n",
              "      border-color: transparent;\n",
              "      border-left-color: var(--fill-color);\n",
              "      border-top-color: var(--fill-color);\n",
              "    }\n",
              "    30% {\n",
              "      border-color: transparent;\n",
              "      border-left-color: var(--fill-color);\n",
              "      border-top-color: var(--fill-color);\n",
              "      border-right-color: var(--fill-color);\n",
              "    }\n",
              "    40% {\n",
              "      border-color: transparent;\n",
              "      border-right-color: var(--fill-color);\n",
              "      border-top-color: var(--fill-color);\n",
              "    }\n",
              "    60% {\n",
              "      border-color: transparent;\n",
              "      border-right-color: var(--fill-color);\n",
              "    }\n",
              "    80% {\n",
              "      border-color: transparent;\n",
              "      border-right-color: var(--fill-color);\n",
              "      border-bottom-color: var(--fill-color);\n",
              "    }\n",
              "    90% {\n",
              "      border-color: transparent;\n",
              "      border-bottom-color: var(--fill-color);\n",
              "    }\n",
              "  }\n",
              "</style>\n",
              "\n",
              "  <script>\n",
              "    async function quickchart(key) {\n",
              "      const quickchartButtonEl =\n",
              "        document.querySelector('#' + key + ' button');\n",
              "      quickchartButtonEl.disabled = true;  // To prevent multiple clicks.\n",
              "      quickchartButtonEl.classList.add('colab-df-spinner');\n",
              "      try {\n",
              "        const charts = await google.colab.kernel.invokeFunction(\n",
              "            'suggestCharts', [key], {});\n",
              "      } catch (error) {\n",
              "        console.error('Error during call to suggestCharts:', error);\n",
              "      }\n",
              "      quickchartButtonEl.classList.remove('colab-df-spinner');\n",
              "      quickchartButtonEl.classList.add('colab-df-quickchart-complete');\n",
              "    }\n",
              "    (() => {\n",
              "      let quickchartButtonEl =\n",
              "        document.querySelector('#df-13f61449-8546-4315-8c8a-77af28839ad6 button');\n",
              "      quickchartButtonEl.style.display =\n",
              "        google.colab.kernel.accessAllowed ? 'block' : 'none';\n",
              "    })();\n",
              "  </script>\n",
              "</div>\n",
              "    </div>\n",
              "  </div>\n"
            ],
            "application/vnd.google.colaboratory.intrinsic+json": {
              "type": "dataframe",
              "repr_error": "'str' object has no attribute 'empty'"
            }
          },
          "metadata": {},
          "execution_count": 31
        }
      ]
    },
    {
      "cell_type": "markdown",
      "source": [
        "#### Coloumns/features in data"
      ],
      "metadata": {
        "id": "0HZdPTbGcQ8o"
      }
    },
    {
      "cell_type": "code",
      "source": [
        "data.columns"
      ],
      "metadata": {
        "execution": {
          "iopub.status.busy": "2023-04-03T08:07:13.784219Z",
          "iopub.execute_input": "2023-04-03T08:07:13.784702Z",
          "iopub.status.idle": "2023-04-03T08:07:13.792982Z",
          "shell.execute_reply.started": "2023-04-03T08:07:13.784653Z",
          "shell.execute_reply": "2023-04-03T08:07:13.791936Z"
        },
        "trusted": true,
        "colab": {
          "base_uri": "https://localhost:8080/"
        },
        "id": "DxEHJ0zCcQ8o",
        "outputId": "d8fb842d-1c7f-4058-f3c7-d892edd0635b"
      },
      "execution_count": null,
      "outputs": [
        {
          "output_type": "execute_result",
          "data": {
            "text/plain": [
              "Index(['label', 'time', 'date', 'query', 'username', 'text'], dtype='object')"
            ]
          },
          "metadata": {},
          "execution_count": 32
        }
      ]
    },
    {
      "cell_type": "markdown",
      "source": [
        "#### Length of data"
      ],
      "metadata": {
        "id": "UveYAKt9cQ8o"
      }
    },
    {
      "cell_type": "code",
      "source": [
        "print('lenght of data is', len(data))"
      ],
      "metadata": {
        "execution": {
          "iopub.status.busy": "2023-04-03T08:07:13.796678Z",
          "iopub.execute_input": "2023-04-03T08:07:13.797052Z",
          "iopub.status.idle": "2023-04-03T08:07:13.803593Z",
          "shell.execute_reply.started": "2023-04-03T08:07:13.797017Z",
          "shell.execute_reply": "2023-04-03T08:07:13.802494Z"
        },
        "trusted": true,
        "colab": {
          "base_uri": "https://localhost:8080/"
        },
        "id": "8nE8YGhGcQ8o",
        "outputId": "02b29af8-ff60-4073-a53e-a093e01f67dd"
      },
      "execution_count": null,
      "outputs": [
        {
          "output_type": "stream",
          "name": "stdout",
          "text": [
            "lenght of data is 1599999\n"
          ]
        }
      ]
    },
    {
      "cell_type": "markdown",
      "source": [
        "#### Shape of data"
      ],
      "metadata": {
        "id": "MmA-WVovcQ8o"
      }
    },
    {
      "cell_type": "code",
      "source": [
        "data.shape"
      ],
      "metadata": {
        "execution": {
          "iopub.status.busy": "2023-04-03T08:07:13.805374Z",
          "iopub.execute_input": "2023-04-03T08:07:13.805803Z",
          "iopub.status.idle": "2023-04-03T08:07:13.814158Z",
          "shell.execute_reply.started": "2023-04-03T08:07:13.805768Z",
          "shell.execute_reply": "2023-04-03T08:07:13.813064Z"
        },
        "trusted": true,
        "colab": {
          "base_uri": "https://localhost:8080/"
        },
        "id": "-Kydxgy-cQ8o",
        "outputId": "465f6f98-732b-4fdc-cd49-03a0bf32832c"
      },
      "execution_count": null,
      "outputs": [
        {
          "output_type": "execute_result",
          "data": {
            "text/plain": [
              "(1599999, 6)"
            ]
          },
          "metadata": {},
          "execution_count": 34
        }
      ]
    },
    {
      "cell_type": "markdown",
      "source": [
        "#### Data information"
      ],
      "metadata": {
        "id": "x5JlnwOicQ8o"
      }
    },
    {
      "cell_type": "code",
      "source": [
        "data.info()"
      ],
      "metadata": {
        "execution": {
          "iopub.status.busy": "2023-04-03T08:07:13.815243Z",
          "iopub.execute_input": "2023-04-03T08:07:13.815585Z",
          "iopub.status.idle": "2023-04-03T08:07:14.392341Z",
          "shell.execute_reply.started": "2023-04-03T08:07:13.815553Z",
          "shell.execute_reply": "2023-04-03T08:07:14.391313Z"
        },
        "trusted": true,
        "colab": {
          "base_uri": "https://localhost:8080/"
        },
        "id": "7h7QwfSqcQ8o",
        "outputId": "4df9a51b-cf33-4ab4-dbc8-fc62258faec3"
      },
      "execution_count": null,
      "outputs": [
        {
          "output_type": "stream",
          "name": "stdout",
          "text": [
            "<class 'pandas.core.frame.DataFrame'>\n",
            "RangeIndex: 1599999 entries, 0 to 1599998\n",
            "Data columns (total 6 columns):\n",
            " #   Column    Non-Null Count    Dtype \n",
            "---  ------    --------------    ----- \n",
            " 0   label     1599999 non-null  int64 \n",
            " 1   time      1599999 non-null  int64 \n",
            " 2   date      1599999 non-null  object\n",
            " 3   query     1599999 non-null  object\n",
            " 4   username  1599999 non-null  object\n",
            " 5   text      1599999 non-null  object\n",
            "dtypes: int64(2), object(4)\n",
            "memory usage: 73.2+ MB\n"
          ]
        }
      ]
    },
    {
      "cell_type": "markdown",
      "source": [
        "#### Data types of all coloumns"
      ],
      "metadata": {
        "id": "-8aMQaD-cQ8o"
      }
    },
    {
      "cell_type": "code",
      "source": [
        "data.dtypes"
      ],
      "metadata": {
        "execution": {
          "iopub.status.busy": "2023-04-03T08:07:14.393621Z",
          "iopub.execute_input": "2023-04-03T08:07:14.393912Z",
          "iopub.status.idle": "2023-04-03T08:07:14.402041Z",
          "shell.execute_reply.started": "2023-04-03T08:07:14.393884Z",
          "shell.execute_reply": "2023-04-03T08:07:14.400877Z"
        },
        "trusted": true,
        "colab": {
          "base_uri": "https://localhost:8080/"
        },
        "id": "VlY7EiP-cQ8o",
        "outputId": "58ef341e-6c01-4e78-d01f-b1b6d7423e7b"
      },
      "execution_count": null,
      "outputs": [
        {
          "output_type": "execute_result",
          "data": {
            "text/plain": [
              "label        int64\n",
              "time         int64\n",
              "date        object\n",
              "query       object\n",
              "username    object\n",
              "text        object\n",
              "dtype: object"
            ]
          },
          "metadata": {},
          "execution_count": 36
        }
      ]
    },
    {
      "cell_type": "markdown",
      "source": [
        "#### Checking Null values"
      ],
      "metadata": {
        "id": "pp3J7nU-cQ8p"
      }
    },
    {
      "cell_type": "code",
      "source": [
        "np.sum(data.isnull().any(axis=1))"
      ],
      "metadata": {
        "scrolled": true,
        "execution": {
          "iopub.status.busy": "2023-04-03T08:07:14.403805Z",
          "iopub.execute_input": "2023-04-03T08:07:14.404144Z",
          "iopub.status.idle": "2023-04-03T08:07:14.972744Z",
          "shell.execute_reply.started": "2023-04-03T08:07:14.40411Z",
          "shell.execute_reply": "2023-04-03T08:07:14.971602Z"
        },
        "trusted": true,
        "colab": {
          "base_uri": "https://localhost:8080/"
        },
        "id": "Cr_gdqQ3cQ8p",
        "outputId": "fa4d4f6f-d1d8-4642-e7d5-3bf5011b9a92"
      },
      "execution_count": null,
      "outputs": [
        {
          "output_type": "execute_result",
          "data": {
            "text/plain": [
              "0"
            ]
          },
          "metadata": {},
          "execution_count": 37
        }
      ]
    },
    {
      "cell_type": "markdown",
      "source": [
        "#### Rows and columns in the dataset"
      ],
      "metadata": {
        "id": "8F_Cob4kcQ8p"
      }
    },
    {
      "cell_type": "code",
      "source": [
        "print('Count of columns in the data is:  ', len(data.columns))"
      ],
      "metadata": {
        "execution": {
          "iopub.status.busy": "2023-04-03T08:07:14.974572Z",
          "iopub.execute_input": "2023-04-03T08:07:14.974909Z",
          "iopub.status.idle": "2023-04-03T08:07:14.981879Z",
          "shell.execute_reply.started": "2023-04-03T08:07:14.974875Z",
          "shell.execute_reply": "2023-04-03T08:07:14.980766Z"
        },
        "trusted": true,
        "colab": {
          "base_uri": "https://localhost:8080/"
        },
        "id": "6B3TqJJAcQ8p",
        "outputId": "5c993cd8-8294-47da-ffac-fdbb14158fe9"
      },
      "execution_count": null,
      "outputs": [
        {
          "output_type": "stream",
          "name": "stdout",
          "text": [
            "Count of columns in the data is:   6\n"
          ]
        }
      ]
    },
    {
      "cell_type": "code",
      "source": [
        "print('Count of rows in the data is:  ', len(data))"
      ],
      "metadata": {
        "execution": {
          "iopub.status.busy": "2023-04-03T08:07:14.983366Z",
          "iopub.execute_input": "2023-04-03T08:07:14.983888Z",
          "iopub.status.idle": "2023-04-03T08:07:14.993506Z",
          "shell.execute_reply.started": "2023-04-03T08:07:14.983832Z",
          "shell.execute_reply": "2023-04-03T08:07:14.992527Z"
        },
        "trusted": true,
        "colab": {
          "base_uri": "https://localhost:8080/"
        },
        "id": "qLSfIEPBcQ8p",
        "outputId": "0f93f3e9-96c3-4456-be85-2fd3aa00e864"
      },
      "execution_count": null,
      "outputs": [
        {
          "output_type": "stream",
          "name": "stdout",
          "text": [
            "Count of rows in the data is:   1599999\n"
          ]
        }
      ]
    },
    {
      "cell_type": "markdown",
      "source": [
        "<div class=\"alert alert-block alert-danger\">  \n",
        "<h1><center><strong>Data Preparation</strong></center></h1>"
      ],
      "metadata": {
        "papermill": {
          "duration": 0.065466,
          "end_time": "2020-11-30T07:38:51.578836",
          "exception": false,
          "start_time": "2020-11-30T07:38:51.51337",
          "status": "completed"
        },
        "tags": [],
        "id": "opXt3FLtcQ8p"
      }
    },
    {
      "cell_type": "markdown",
      "source": [
        "#### Selecting the text and label coloumn"
      ],
      "metadata": {
        "id": "VwBIfSXWcQ8p"
      }
    },
    {
      "cell_type": "code",
      "source": [
        "data=data[['text','label']]"
      ],
      "metadata": {
        "execution": {
          "iopub.status.busy": "2023-04-03T08:07:14.995782Z",
          "iopub.execute_input": "2023-04-03T08:07:14.996112Z",
          "iopub.status.idle": "2023-04-03T08:07:15.040576Z",
          "shell.execute_reply.started": "2023-04-03T08:07:14.99608Z",
          "shell.execute_reply": "2023-04-03T08:07:15.039479Z"
        },
        "trusted": true,
        "id": "KN_fCJuccQ8p"
      },
      "execution_count": null,
      "outputs": []
    },
    {
      "cell_type": "markdown",
      "source": [
        "#### Assigning 1 to Positive sentment 4"
      ],
      "metadata": {
        "id": "bYuQEln9cQ8p"
      }
    },
    {
      "cell_type": "code",
      "source": [
        "data['label'][data['label']==4]=1"
      ],
      "metadata": {
        "execution": {
          "iopub.status.busy": "2023-04-03T08:07:15.041931Z",
          "iopub.execute_input": "2023-04-03T08:07:15.042427Z",
          "iopub.status.idle": "2023-04-03T08:07:15.066103Z",
          "shell.execute_reply.started": "2023-04-03T08:07:15.04239Z",
          "shell.execute_reply": "2023-04-03T08:07:15.065109Z"
        },
        "trusted": true,
        "id": "Tsaif6gRcQ8q"
      },
      "execution_count": null,
      "outputs": []
    },
    {
      "cell_type": "markdown",
      "source": [
        "#### Separating positive and negative tweets"
      ],
      "metadata": {
        "id": "FMkpSMNrcQ8q"
      }
    },
    {
      "cell_type": "code",
      "source": [
        "data_pos = data[data['label'] == 1]\n",
        "data_neg = data[data['label'] == 0]"
      ],
      "metadata": {
        "execution": {
          "iopub.status.busy": "2023-04-03T08:07:15.067486Z",
          "iopub.execute_input": "2023-04-03T08:07:15.067842Z",
          "iopub.status.idle": "2023-04-03T08:07:15.168447Z",
          "shell.execute_reply.started": "2023-04-03T08:07:15.067809Z",
          "shell.execute_reply": "2023-04-03T08:07:15.167498Z"
        },
        "trusted": true,
        "id": "8xFmkU2rcQ8q"
      },
      "execution_count": null,
      "outputs": []
    },
    {
      "cell_type": "markdown",
      "source": [
        "#### taking one fourth data so we can run on our machine easily"
      ],
      "metadata": {
        "id": "0-U85s-ncQ8q"
      }
    },
    {
      "cell_type": "code",
      "source": [
        "data_pos = data_pos.iloc[:int(20000)]\n",
        "data_neg = data_neg.iloc[:int(20000)]"
      ],
      "metadata": {
        "execution": {
          "iopub.status.busy": "2023-04-03T08:07:15.169595Z",
          "iopub.execute_input": "2023-04-03T08:07:15.169896Z",
          "iopub.status.idle": "2023-04-03T08:07:15.175035Z",
          "shell.execute_reply.started": "2023-04-03T08:07:15.169867Z",
          "shell.execute_reply": "2023-04-03T08:07:15.174154Z"
        },
        "trusted": true,
        "id": "m9NKHkALcQ8q"
      },
      "execution_count": null,
      "outputs": []
    },
    {
      "cell_type": "markdown",
      "source": [
        "#### Combining positive and negative tweets"
      ],
      "metadata": {
        "id": "tcd6MeRucQ82"
      }
    },
    {
      "cell_type": "code",
      "source": [
        "data = pd.concat([data_pos, data_neg])"
      ],
      "metadata": {
        "execution": {
          "iopub.status.busy": "2023-04-03T08:07:15.176355Z",
          "iopub.execute_input": "2023-04-03T08:07:15.176637Z",
          "iopub.status.idle": "2023-04-03T08:07:15.206969Z",
          "shell.execute_reply.started": "2023-04-03T08:07:15.176609Z",
          "shell.execute_reply": "2023-04-03T08:07:15.205999Z"
        },
        "trusted": true,
        "id": "lj3U-92RcQ82"
      },
      "execution_count": null,
      "outputs": []
    },
    {
      "cell_type": "markdown",
      "source": [
        "#### Making statement text in lower case"
      ],
      "metadata": {
        "id": "CbWPVicecQ82"
      }
    },
    {
      "cell_type": "code",
      "source": [
        "data['text']=data['text'].str.lower()"
      ],
      "metadata": {
        "execution": {
          "iopub.status.busy": "2023-04-03T08:07:15.208452Z",
          "iopub.execute_input": "2023-04-03T08:07:15.208755Z",
          "iopub.status.idle": "2023-04-03T08:07:15.243452Z",
          "shell.execute_reply.started": "2023-04-03T08:07:15.208726Z",
          "shell.execute_reply": "2023-04-03T08:07:15.242469Z"
        },
        "trusted": true,
        "id": "FXCfUcOucQ82"
      },
      "execution_count": null,
      "outputs": []
    },
    {
      "cell_type": "code",
      "source": [
        "data['text'].tail()"
      ],
      "metadata": {
        "execution": {
          "iopub.status.busy": "2023-04-03T08:07:15.245207Z",
          "iopub.execute_input": "2023-04-03T08:07:15.245653Z",
          "iopub.status.idle": "2023-04-03T08:07:15.256487Z",
          "shell.execute_reply.started": "2023-04-03T08:07:15.245604Z",
          "shell.execute_reply": "2023-04-03T08:07:15.255624Z"
        },
        "trusted": true,
        "colab": {
          "base_uri": "https://localhost:8080/"
        },
        "id": "1zP4c_NPcQ82",
        "outputId": "d97d6647-8e45-40e1-b89f-e871c37e18ed"
      },
      "execution_count": null,
      "outputs": [
        {
          "output_type": "execute_result",
          "data": {
            "text/plain": [
              "19995                            one more day of holidays \n",
              "19996    feeling so down right now .. i hate you damn h...\n",
              "19997    geez,i hv to read the whole book of personalit...\n",
              "19998    i threw my sign at donnie and he bent over to ...\n",
              "19999    @heather2711 good thing i didn't find any then...\n",
              "Name: text, dtype: object"
            ]
          },
          "metadata": {},
          "execution_count": 46
        }
      ]
    },
    {
      "cell_type": "markdown",
      "source": [
        "#### Cleaning and removing Stop words of english"
      ],
      "metadata": {
        "id": "ByV2xEBQcQ83"
      }
    },
    {
      "cell_type": "code",
      "source": [
        "import nltk\n",
        "nltk.download('stopwords')\n",
        "stopwords_list = stopwords.words('english')"
      ],
      "metadata": {
        "execution": {
          "iopub.status.busy": "2023-04-03T08:07:15.258042Z",
          "iopub.execute_input": "2023-04-03T08:07:15.258676Z",
          "iopub.status.idle": "2023-04-03T08:07:15.270584Z",
          "shell.execute_reply.started": "2023-04-03T08:07:15.25864Z",
          "shell.execute_reply": "2023-04-03T08:07:15.269641Z"
        },
        "trusted": true,
        "colab": {
          "base_uri": "https://localhost:8080/"
        },
        "id": "pOOOf59UcQ83",
        "outputId": "b89e2ec7-5b6f-4719-f0de-199af923628e"
      },
      "execution_count": null,
      "outputs": [
        {
          "output_type": "stream",
          "name": "stderr",
          "text": [
            "[nltk_data] Downloading package stopwords to /root/nltk_data...\n",
            "[nltk_data]   Package stopwords is already up-to-date!\n"
          ]
        }
      ]
    },
    {
      "cell_type": "code",
      "source": [
        "from nltk.corpus import stopwords\n",
        "\", \".join(stopwords.words('english'))"
      ],
      "metadata": {
        "execution": {
          "iopub.status.busy": "2023-04-03T08:07:15.272091Z",
          "iopub.execute_input": "2023-04-03T08:07:15.273049Z",
          "iopub.status.idle": "2023-04-03T08:07:15.28871Z",
          "shell.execute_reply.started": "2023-04-03T08:07:15.272988Z",
          "shell.execute_reply": "2023-04-03T08:07:15.287079Z"
        },
        "trusted": true,
        "colab": {
          "base_uri": "https://localhost:8080/",
          "height": 122
        },
        "id": "_EWAKd12cQ83",
        "outputId": "d47c2cf9-8c3c-42b5-8ee5-9bb90f499a41"
      },
      "execution_count": null,
      "outputs": [
        {
          "output_type": "execute_result",
          "data": {
            "text/plain": [
              "\"i, me, my, myself, we, our, ours, ourselves, you, you're, you've, you'll, you'd, your, yours, yourself, yourselves, he, him, his, himself, she, she's, her, hers, herself, it, it's, its, itself, they, them, their, theirs, themselves, what, which, who, whom, this, that, that'll, these, those, am, is, are, was, were, be, been, being, have, has, had, having, do, does, did, doing, a, an, the, and, but, if, or, because, as, until, while, of, at, by, for, with, about, against, between, into, through, during, before, after, above, below, to, from, up, down, in, out, on, off, over, under, again, further, then, once, here, there, when, where, why, how, all, any, both, each, few, more, most, other, some, such, no, nor, not, only, own, same, so, than, too, very, s, t, can, will, just, don, don't, should, should've, now, d, ll, m, o, re, ve, y, ain, aren, aren't, couldn, couldn't, didn, didn't, doesn, doesn't, hadn, hadn't, hasn, hasn't, haven, haven't, isn, isn't, ma, mightn, mightn't, mustn, mustn't, needn, needn't, shan, shan't, shouldn, shouldn't, wasn, wasn't, weren, weren't, won, won't, wouldn, wouldn't\""
            ],
            "application/vnd.google.colaboratory.intrinsic+json": {
              "type": "string"
            }
          },
          "metadata": {},
          "execution_count": 48
        }
      ]
    },
    {
      "cell_type": "markdown",
      "source": [
        "#### Cleaning and removing the above stop words list from the tweet text"
      ],
      "metadata": {
        "id": "vGAQSQaYcQ83"
      }
    },
    {
      "cell_type": "code",
      "source": [
        "STOPWORDS = set(stopwords.words('english'))\n",
        "def cleaning_stopwords(text):\n",
        "    return \" \".join([word for word in str(text).split() if word not in STOPWORDS])\n",
        "data['text'] = data['text'].apply(lambda text: cleaning_stopwords(text))\n",
        "data['text'].head()"
      ],
      "metadata": {
        "execution": {
          "iopub.status.busy": "2023-04-03T08:07:15.290786Z",
          "iopub.execute_input": "2023-04-03T08:07:15.291649Z",
          "iopub.status.idle": "2023-04-03T08:07:15.453946Z",
          "shell.execute_reply.started": "2023-04-03T08:07:15.2916Z",
          "shell.execute_reply": "2023-04-03T08:07:15.452724Z"
        },
        "trusted": true,
        "colab": {
          "base_uri": "https://localhost:8080/"
        },
        "id": "Tb9iPPaZcQ83",
        "outputId": "8af6c6a9-8279-4bf2-ebe4-e7ae7cfdd654"
      },
      "execution_count": null,
      "outputs": [
        {
          "output_type": "execute_result",
          "data": {
            "text/plain": [
              "799999                love @health4uandpets u guys r best!!\n",
              "800000    im meeting one besties tonight! cant wait!! - ...\n",
              "800001    @darealsunisakim thanks twitter add, sunisa! g...\n",
              "800002    sick really cheap hurts much eat real food plu...\n",
              "800003                      @lovesbrooklyn2 effect everyone\n",
              "Name: text, dtype: object"
            ]
          },
          "metadata": {},
          "execution_count": 49
        }
      ]
    },
    {
      "cell_type": "markdown",
      "source": [
        "#### Cleaning and removing punctuations"
      ],
      "metadata": {
        "id": "HDBWYeQ8cQ83"
      }
    },
    {
      "cell_type": "code",
      "source": [
        "english_punctuations = string.punctuation\n",
        "punctuations_list = english_punctuations\n",
        "def cleaning_punctuations(text):\n",
        "    translator = str.maketrans('', '', punctuations_list)\n",
        "    return text.translate(translator)"
      ],
      "metadata": {
        "execution": {
          "iopub.status.busy": "2023-04-03T08:07:15.456165Z",
          "iopub.execute_input": "2023-04-03T08:07:15.456685Z",
          "iopub.status.idle": "2023-04-03T08:07:15.463299Z",
          "shell.execute_reply.started": "2023-04-03T08:07:15.456636Z",
          "shell.execute_reply": "2023-04-03T08:07:15.462154Z"
        },
        "trusted": true,
        "id": "fqpkwJJ0cQ83"
      },
      "execution_count": null,
      "outputs": []
    },
    {
      "cell_type": "code",
      "source": [
        "data['text']= data['text'].apply(lambda x: cleaning_punctuations(x))\n",
        "data['text'].tail()"
      ],
      "metadata": {
        "execution": {
          "iopub.status.busy": "2023-04-03T08:07:15.465156Z",
          "iopub.execute_input": "2023-04-03T08:07:15.46592Z",
          "iopub.status.idle": "2023-04-03T08:07:15.663982Z",
          "shell.execute_reply.started": "2023-04-03T08:07:15.465874Z",
          "shell.execute_reply": "2023-04-03T08:07:15.662963Z"
        },
        "trusted": true,
        "colab": {
          "base_uri": "https://localhost:8080/"
        },
        "id": "tcmdusFtcQ83",
        "outputId": "0f00bd1f-a5fc-4038-f388-28725d8ff7e4"
      },
      "execution_count": null,
      "outputs": [
        {
          "output_type": "execute_result",
          "data": {
            "text/plain": [
              "19995                                     one day holidays\n",
              "19996                     feeling right  hate damn humprey\n",
              "19997    geezi hv read whole book personality types emb...\n",
              "19998     threw sign donnie bent get thingee made sad face\n",
              "19999    heather2711 good thing find none ones like com...\n",
              "Name: text, dtype: object"
            ]
          },
          "metadata": {},
          "execution_count": 51
        }
      ]
    },
    {
      "cell_type": "markdown",
      "source": [
        "#### Cleaning and removing repeating characters"
      ],
      "metadata": {
        "id": "XAxRrxPycQ83"
      }
    },
    {
      "cell_type": "code",
      "source": [
        "def cleaning_repeating_char(text):\n",
        "    return re.sub(r'(.)\\1+', r'\\1', text)"
      ],
      "metadata": {
        "execution": {
          "iopub.status.busy": "2023-04-03T08:07:15.665703Z",
          "iopub.execute_input": "2023-04-03T08:07:15.66603Z",
          "iopub.status.idle": "2023-04-03T08:07:15.670391Z",
          "shell.execute_reply.started": "2023-04-03T08:07:15.665998Z",
          "shell.execute_reply": "2023-04-03T08:07:15.669342Z"
        },
        "trusted": true,
        "id": "9JuNrT9GcQ84"
      },
      "execution_count": null,
      "outputs": []
    },
    {
      "cell_type": "code",
      "source": [
        "data['text'] = data['text'].apply(lambda x: cleaning_repeating_char(x))\n",
        "data['text'].tail()"
      ],
      "metadata": {
        "execution": {
          "iopub.status.busy": "2023-04-03T08:07:15.67189Z",
          "iopub.execute_input": "2023-04-03T08:07:15.672418Z",
          "iopub.status.idle": "2023-04-03T08:07:16.044609Z",
          "shell.execute_reply.started": "2023-04-03T08:07:15.672365Z",
          "shell.execute_reply": "2023-04-03T08:07:16.043726Z"
        },
        "trusted": true,
        "colab": {
          "base_uri": "https://localhost:8080/"
        },
        "id": "Ashs3M2rcQ84",
        "outputId": "38ae37c2-972a-4c05-c923-3a71821b75df"
      },
      "execution_count": null,
      "outputs": [
        {
          "output_type": "execute_result",
          "data": {
            "text/plain": [
              "19995                                     one day holidays\n",
              "19996                       feling right hate damn humprey\n",
              "19997    gezi hv read whole bok personality types embar...\n",
              "19998       threw sign donie bent get thinge made sad face\n",
              "19999    heather271 god thing find none ones like come ...\n",
              "Name: text, dtype: object"
            ]
          },
          "metadata": {},
          "execution_count": 53
        }
      ]
    },
    {
      "cell_type": "markdown",
      "source": [
        "#### Cleaning and removing email"
      ],
      "metadata": {
        "id": "irJTnekIcQ84"
      }
    },
    {
      "cell_type": "code",
      "source": [
        "def cleaning_email(data):\n",
        "    return re.sub('@[^\\s]+', ' ', data)"
      ],
      "metadata": {
        "execution": {
          "iopub.status.busy": "2023-04-03T08:07:16.045876Z",
          "iopub.execute_input": "2023-04-03T08:07:16.04642Z",
          "iopub.status.idle": "2023-04-03T08:07:16.051278Z",
          "shell.execute_reply.started": "2023-04-03T08:07:16.046362Z",
          "shell.execute_reply": "2023-04-03T08:07:16.050171Z"
        },
        "trusted": true,
        "id": "K684O7iOcQ84"
      },
      "execution_count": null,
      "outputs": []
    },
    {
      "cell_type": "code",
      "source": [
        "data['text']= data['text'].apply(lambda x: cleaning_email(x))\n",
        "data['text'].tail()"
      ],
      "metadata": {
        "execution": {
          "iopub.status.busy": "2023-04-03T08:07:16.052987Z",
          "iopub.execute_input": "2023-04-03T08:07:16.053347Z",
          "iopub.status.idle": "2023-04-03T08:07:16.128762Z",
          "shell.execute_reply.started": "2023-04-03T08:07:16.05329Z",
          "shell.execute_reply": "2023-04-03T08:07:16.127849Z"
        },
        "trusted": true,
        "colab": {
          "base_uri": "https://localhost:8080/"
        },
        "id": "1HZ4pUREcQ84",
        "outputId": "a11f97f3-2bb7-43db-83e1-61d666983d8c"
      },
      "execution_count": null,
      "outputs": [
        {
          "output_type": "execute_result",
          "data": {
            "text/plain": [
              "19995                                     one day holidays\n",
              "19996                       feling right hate damn humprey\n",
              "19997    gezi hv read whole bok personality types embar...\n",
              "19998       threw sign donie bent get thinge made sad face\n",
              "19999    heather271 god thing find none ones like come ...\n",
              "Name: text, dtype: object"
            ]
          },
          "metadata": {},
          "execution_count": 55
        }
      ]
    },
    {
      "cell_type": "markdown",
      "source": [
        "#### Cleaning and removing URL's"
      ],
      "metadata": {
        "id": "-X4YdfYscQ84"
      }
    },
    {
      "cell_type": "code",
      "source": [
        "def cleaning_URLs(data):\n",
        "    return re.sub('((www\\.[^\\s]+)|(https?://[^\\s]+))',' ',data)"
      ],
      "metadata": {
        "execution": {
          "iopub.status.busy": "2023-04-03T08:07:16.130077Z",
          "iopub.execute_input": "2023-04-03T08:07:16.130626Z",
          "iopub.status.idle": "2023-04-03T08:07:16.135607Z",
          "shell.execute_reply.started": "2023-04-03T08:07:16.13057Z",
          "shell.execute_reply": "2023-04-03T08:07:16.134287Z"
        },
        "trusted": true,
        "id": "cGuHZ_K-cQ84"
      },
      "execution_count": null,
      "outputs": []
    },
    {
      "cell_type": "code",
      "source": [
        "data['text'] = data['text'].apply(lambda x: cleaning_URLs(x))\n",
        "data['text'].tail()"
      ],
      "metadata": {
        "execution": {
          "iopub.status.busy": "2023-04-03T08:07:16.137554Z",
          "iopub.execute_input": "2023-04-03T08:07:16.137889Z",
          "iopub.status.idle": "2023-04-03T08:07:16.317718Z",
          "shell.execute_reply.started": "2023-04-03T08:07:16.137856Z",
          "shell.execute_reply": "2023-04-03T08:07:16.316858Z"
        },
        "trusted": true,
        "colab": {
          "base_uri": "https://localhost:8080/"
        },
        "id": "HSiVIcK4cQ84",
        "outputId": "ddb3b59b-7076-417d-d9d2-537fe65a521b"
      },
      "execution_count": null,
      "outputs": [
        {
          "output_type": "execute_result",
          "data": {
            "text/plain": [
              "19995                                     one day holidays\n",
              "19996                       feling right hate damn humprey\n",
              "19997    gezi hv read whole bok personality types embar...\n",
              "19998       threw sign donie bent get thinge made sad face\n",
              "19999    heather271 god thing find none ones like come ...\n",
              "Name: text, dtype: object"
            ]
          },
          "metadata": {},
          "execution_count": 57
        }
      ]
    },
    {
      "cell_type": "markdown",
      "source": [
        "#### Cleaning and removing Numeric numbers"
      ],
      "metadata": {
        "id": "CP4QRAjNcQ84"
      }
    },
    {
      "cell_type": "code",
      "source": [
        "def cleaning_numbers(data):\n",
        "    return re.sub('[0-9]+', '', data)"
      ],
      "metadata": {
        "execution": {
          "iopub.status.busy": "2023-04-03T08:07:16.31895Z",
          "iopub.execute_input": "2023-04-03T08:07:16.319441Z",
          "iopub.status.idle": "2023-04-03T08:07:16.323331Z",
          "shell.execute_reply.started": "2023-04-03T08:07:16.319386Z",
          "shell.execute_reply": "2023-04-03T08:07:16.322487Z"
        },
        "trusted": true,
        "id": "GoJwhTUTcQ85"
      },
      "execution_count": null,
      "outputs": []
    },
    {
      "cell_type": "code",
      "source": [
        "data['text'] = data['text'].apply(lambda x: cleaning_numbers(x))\n",
        "data['text'].tail()"
      ],
      "metadata": {
        "execution": {
          "iopub.status.busy": "2023-04-03T08:07:16.329364Z",
          "iopub.execute_input": "2023-04-03T08:07:16.32994Z",
          "iopub.status.idle": "2023-04-03T08:07:16.452657Z",
          "shell.execute_reply.started": "2023-04-03T08:07:16.329742Z",
          "shell.execute_reply": "2023-04-03T08:07:16.451414Z"
        },
        "trusted": true,
        "colab": {
          "base_uri": "https://localhost:8080/"
        },
        "id": "lM78FpB6cQ85",
        "outputId": "558b5fc4-206f-4759-be8d-6ddd38e4909a"
      },
      "execution_count": null,
      "outputs": [
        {
          "output_type": "execute_result",
          "data": {
            "text/plain": [
              "19995                                     one day holidays\n",
              "19996                       feling right hate damn humprey\n",
              "19997    gezi hv read whole bok personality types embar...\n",
              "19998       threw sign donie bent get thinge made sad face\n",
              "19999    heather god thing find none ones like come siz...\n",
              "Name: text, dtype: object"
            ]
          },
          "metadata": {},
          "execution_count": 59
        }
      ]
    },
    {
      "cell_type": "markdown",
      "source": [
        "#### Getting tokenization of tweet text"
      ],
      "metadata": {
        "id": "ttqiXU2xcQ85"
      }
    },
    {
      "cell_type": "code",
      "source": [
        "tokenizer = RegexpTokenizer(r'\\w+')\n",
        "data['text'] = data['text'].apply(tokenizer.tokenize)"
      ],
      "metadata": {
        "execution": {
          "iopub.status.busy": "2023-04-03T08:07:16.454097Z",
          "iopub.execute_input": "2023-04-03T08:07:16.454479Z",
          "iopub.status.idle": "2023-04-03T08:07:16.597642Z",
          "shell.execute_reply.started": "2023-04-03T08:07:16.454445Z",
          "shell.execute_reply": "2023-04-03T08:07:16.59664Z"
        },
        "trusted": true,
        "id": "tN_RjILmcQ85"
      },
      "execution_count": null,
      "outputs": []
    },
    {
      "cell_type": "code",
      "source": [
        "data['text'].head()"
      ],
      "metadata": {
        "execution": {
          "iopub.status.busy": "2023-04-03T08:07:16.600376Z",
          "iopub.execute_input": "2023-04-03T08:07:16.600837Z",
          "iopub.status.idle": "2023-04-03T08:07:16.614218Z",
          "shell.execute_reply.started": "2023-04-03T08:07:16.600789Z",
          "shell.execute_reply": "2023-04-03T08:07:16.612684Z"
        },
        "trusted": true,
        "colab": {
          "base_uri": "https://localhost:8080/"
        },
        "id": "bSkvX7pmcQ85",
        "outputId": "56b022c3-6882-4592-b617-0ab3e52529b7"
      },
      "execution_count": null,
      "outputs": [
        {
          "output_type": "execute_result",
          "data": {
            "text/plain": [
              "799999             [love, healthuandpets, u, guys, r, best]\n",
              "800000    [im, meting, one, besties, tonight, cant, wait...\n",
              "800001    [darealsunisakim, thanks, twiter, ad, sunisa, ...\n",
              "800002    [sick, realy, cheap, hurts, much, eat, real, f...\n",
              "800003                      [lovesbroklyn, efect, everyone]\n",
              "Name: text, dtype: object"
            ]
          },
          "metadata": {},
          "execution_count": 61
        }
      ]
    },
    {
      "cell_type": "markdown",
      "source": [
        "#### Applying Stemming"
      ],
      "metadata": {
        "id": "-OmeEK72cQ85"
      }
    },
    {
      "cell_type": "code",
      "source": [
        "st = nltk.PorterStemmer()\n",
        "def stemming_on_text(data):\n",
        "    text = [st.stem(word) for word in data]\n",
        "    return data\n",
        "\n",
        "data['text']= data['text'].apply(lambda x: stemming_on_text(x))"
      ],
      "metadata": {
        "execution": {
          "iopub.status.busy": "2023-04-03T08:07:16.615591Z",
          "iopub.execute_input": "2023-04-03T08:07:16.615994Z",
          "iopub.status.idle": "2023-04-03T08:07:24.781361Z",
          "shell.execute_reply.started": "2023-04-03T08:07:16.615961Z",
          "shell.execute_reply": "2023-04-03T08:07:24.780017Z"
        },
        "trusted": true,
        "id": "XSepsJLGcQ85"
      },
      "execution_count": null,
      "outputs": []
    },
    {
      "cell_type": "code",
      "source": [
        "data['text'].head()"
      ],
      "metadata": {
        "execution": {
          "iopub.status.busy": "2023-04-03T08:07:24.783012Z",
          "iopub.execute_input": "2023-04-03T08:07:24.783363Z",
          "iopub.status.idle": "2023-04-03T08:07:24.792087Z",
          "shell.execute_reply.started": "2023-04-03T08:07:24.783331Z",
          "shell.execute_reply": "2023-04-03T08:07:24.790904Z"
        },
        "trusted": true,
        "colab": {
          "base_uri": "https://localhost:8080/"
        },
        "id": "sOJRf_XBcQ85",
        "outputId": "ee67867b-35b3-47c3-b62c-9cf6074c704f"
      },
      "execution_count": null,
      "outputs": [
        {
          "output_type": "execute_result",
          "data": {
            "text/plain": [
              "799999             [love, healthuandpets, u, guys, r, best]\n",
              "800000    [im, meting, one, besties, tonight, cant, wait...\n",
              "800001    [darealsunisakim, thanks, twiter, ad, sunisa, ...\n",
              "800002    [sick, realy, cheap, hurts, much, eat, real, f...\n",
              "800003                      [lovesbroklyn, efect, everyone]\n",
              "Name: text, dtype: object"
            ]
          },
          "metadata": {},
          "execution_count": 63
        }
      ]
    },
    {
      "cell_type": "markdown",
      "source": [
        "#### Applying Lemmatizer"
      ],
      "metadata": {
        "id": "dyr_w9mTcQ86"
      }
    },
    {
      "cell_type": "code",
      "source": [
        "lm = nltk.WordNetLemmatizer()\n",
        "nltk.download('wordnet')\n",
        "def lemmatizer_on_text(data):\n",
        "    text = [lm.lemmatize(word) for word in data]\n",
        "    return data\n",
        "\n",
        "data['text'] = data['text'].apply(lambda x: lemmatizer_on_text(x))"
      ],
      "metadata": {
        "execution": {
          "iopub.status.busy": "2023-04-03T08:07:24.793309Z",
          "iopub.execute_input": "2023-04-03T08:07:24.793598Z",
          "iopub.status.idle": "2023-04-03T08:07:27.893919Z",
          "shell.execute_reply.started": "2023-04-03T08:07:24.79357Z",
          "shell.execute_reply": "2023-04-03T08:07:27.892678Z"
        },
        "trusted": true,
        "colab": {
          "base_uri": "https://localhost:8080/"
        },
        "id": "NbGGfXQAcQ86",
        "outputId": "9532d836-3eac-4401-d1fa-0193371eb394"
      },
      "execution_count": null,
      "outputs": [
        {
          "output_type": "stream",
          "name": "stderr",
          "text": [
            "[nltk_data] Downloading package wordnet to /root/nltk_data...\n"
          ]
        }
      ]
    },
    {
      "cell_type": "code",
      "source": [
        "data['text'].head()"
      ],
      "metadata": {
        "execution": {
          "iopub.status.busy": "2023-04-03T08:07:27.895414Z",
          "iopub.execute_input": "2023-04-03T08:07:27.895832Z",
          "iopub.status.idle": "2023-04-03T08:07:27.90412Z",
          "shell.execute_reply.started": "2023-04-03T08:07:27.895799Z",
          "shell.execute_reply": "2023-04-03T08:07:27.903292Z"
        },
        "trusted": true,
        "colab": {
          "base_uri": "https://localhost:8080/"
        },
        "id": "W96iOD7XcQ86",
        "outputId": "92bc4e31-9b02-4130-a90a-17564797a372"
      },
      "execution_count": null,
      "outputs": [
        {
          "output_type": "execute_result",
          "data": {
            "text/plain": [
              "799999             [love, healthuandpets, u, guys, r, best]\n",
              "800000    [im, meting, one, besties, tonight, cant, wait...\n",
              "800001    [darealsunisakim, thanks, twiter, ad, sunisa, ...\n",
              "800002    [sick, realy, cheap, hurts, much, eat, real, f...\n",
              "800003                      [lovesbroklyn, efect, everyone]\n",
              "Name: text, dtype: object"
            ]
          },
          "metadata": {},
          "execution_count": 66
        }
      ]
    },
    {
      "cell_type": "markdown",
      "source": [
        "####  Separating input feature and label"
      ],
      "metadata": {
        "id": "-QyKFVLOcQ86"
      }
    },
    {
      "cell_type": "code",
      "source": [
        "X=data.text\n",
        "y=data.label"
      ],
      "metadata": {
        "execution": {
          "iopub.status.busy": "2023-04-03T08:07:27.905517Z",
          "iopub.execute_input": "2023-04-03T08:07:27.90614Z",
          "iopub.status.idle": "2023-04-03T08:07:27.913936Z",
          "shell.execute_reply.started": "2023-04-03T08:07:27.906108Z",
          "shell.execute_reply": "2023-04-03T08:07:27.912979Z"
        },
        "trusted": true,
        "id": "VW3Ao02UcQ87"
      },
      "execution_count": null,
      "outputs": []
    },
    {
      "cell_type": "markdown",
      "source": [
        "#### Preparing the input features for training\n",
        "- We converting the text words into arrays form.\n",
        "- Maximum 500 features/words selected for training. These 500 words will be selected on the importance that will distinguish between the positive tweets and negative tweets."
      ],
      "metadata": {
        "id": "4j2R-Dh_cQ87"
      }
    },
    {
      "cell_type": "code",
      "source": [
        "max_len = 500\n",
        "tok = Tokenizer(num_words=2000)\n",
        "tok.fit_on_texts(X)\n",
        "sequences = tok.texts_to_sequences(X)\n",
        "sequences_matrix = sequence.pad_sequences(sequences,maxlen=max_len)"
      ],
      "metadata": {
        "id": "plIFObh4jYJV",
        "execution": {
          "iopub.status.busy": "2023-04-03T08:07:27.915064Z",
          "iopub.execute_input": "2023-04-03T08:07:27.915589Z",
          "iopub.status.idle": "2023-04-03T08:07:28.795463Z",
          "shell.execute_reply.started": "2023-04-03T08:07:27.915552Z",
          "shell.execute_reply": "2023-04-03T08:07:28.794447Z"
        },
        "trusted": true
      },
      "execution_count": null,
      "outputs": []
    },
    {
      "cell_type": "markdown",
      "source": [
        "As we can see that there total 40000 tweets and the number words/features are 500."
      ],
      "metadata": {
        "id": "trcvanWDcQ87"
      }
    },
    {
      "cell_type": "code",
      "source": [
        "sequences_matrix.shape"
      ],
      "metadata": {
        "execution": {
          "iopub.status.busy": "2023-04-03T08:07:28.796659Z",
          "iopub.execute_input": "2023-04-03T08:07:28.797125Z",
          "iopub.status.idle": "2023-04-03T08:07:28.802844Z",
          "shell.execute_reply.started": "2023-04-03T08:07:28.797093Z",
          "shell.execute_reply": "2023-04-03T08:07:28.801436Z"
        },
        "trusted": true,
        "colab": {
          "base_uri": "https://localhost:8080/"
        },
        "id": "3C2fpLkJcQ87",
        "outputId": "505fa64e-6fb1-417f-ab4b-d9d7e9fc3e5f"
      },
      "execution_count": null,
      "outputs": [
        {
          "output_type": "execute_result",
          "data": {
            "text/plain": [
              "(40000, 500)"
            ]
          },
          "metadata": {},
          "execution_count": 69
        }
      ]
    },
    {
      "cell_type": "markdown",
      "source": [
        "#### Separating the 70% data for training data and 30% for testing data"
      ],
      "metadata": {
        "id": "uLU2PGd-cQ87"
      }
    },
    {
      "cell_type": "markdown",
      "source": [
        "As we prepared all the tweets, now we are separating/splitting the tweets into training data and testing data.\n",
        "- 70% tweets will be used in the training\n",
        "- 30% tweets will be used to test the performance of the model."
      ],
      "metadata": {
        "id": "z-oevtPgcQ87"
      }
    },
    {
      "cell_type": "code",
      "source": [
        "X_train, X_test, Y_train, Y_test = train_test_split(sequences_matrix, y, test_size=0.3, random_state=2)"
      ],
      "metadata": {
        "id": "oOlkTTg4oRqR",
        "execution": {
          "iopub.status.busy": "2023-04-03T08:07:28.804538Z",
          "iopub.execute_input": "2023-04-03T08:07:28.804947Z",
          "iopub.status.idle": "2023-04-03T08:07:28.851833Z",
          "shell.execute_reply.started": "2023-04-03T08:07:28.8049Z",
          "shell.execute_reply": "2023-04-03T08:07:28.850793Z"
        },
        "trusted": true
      },
      "execution_count": null,
      "outputs": []
    },
    {
      "cell_type": "markdown",
      "source": [
        "<div class=\"alert alert-block alert-danger\">  \n",
        "<h2><center><strong>Implementing Tensorflow based model for training 🧪</strong></center></h2>   \n",
        "</div>"
      ],
      "metadata": {
        "papermill": {
          "duration": 0.065466,
          "end_time": "2020-11-30T07:38:51.578836",
          "exception": false,
          "start_time": "2020-11-30T07:38:51.51337",
          "status": "completed"
        },
        "tags": [],
        "id": "CUueLs94cQ88"
      }
    },
    {
      "cell_type": "code",
      "source": [
        "def tensorflow_based_model(): #Defined tensorflow_based_model function for training tenforflow based model\n",
        "    inputs = Input(name='inputs',shape=[max_len])#step1\n",
        "    layer = Embedding(2000,50,input_length=max_len)(inputs) #step2\n",
        "    layer = LSTM(64)(layer) #step3\n",
        "    layer = Dense(256,name='FC1')(layer) #step4\n",
        "    layer = Activation('relu')(layer) # step5\n",
        "    layer = Dropout(0.5)(layer) # step6\n",
        "    layer = Dense(1,name='out_layer')(layer) #step4 again but this time its giving only one output as because we need to classify the tweet as positive or negative\n",
        "    layer = Activation('sigmoid')(layer) #step5 but this time activation function is sigmoid for only one output.\n",
        "    model = Model(inputs=inputs,outputs=layer) #here we are getting the final output value in the model for classification\n",
        "    return model #function returning the value when we call it"
      ],
      "metadata": {
        "execution": {
          "iopub.status.busy": "2023-04-03T08:07:28.853275Z",
          "iopub.execute_input": "2023-04-03T08:07:28.853569Z",
          "iopub.status.idle": "2023-04-03T08:07:28.860928Z",
          "shell.execute_reply.started": "2023-04-03T08:07:28.853539Z",
          "shell.execute_reply": "2023-04-03T08:07:28.859834Z"
        },
        "trusted": true,
        "id": "MI2fTRXUcQ88"
      },
      "execution_count": null,
      "outputs": []
    },
    {
      "cell_type": "markdown",
      "source": [
        "# Model compilation"
      ],
      "metadata": {
        "id": "5BAHDPZFcQ88"
      }
    },
    {
      "cell_type": "markdown",
      "source": [
        "- First we are calling the model\n",
        "- We are using 2 classes so we set \"binary_crossentropy\" and if we use more than two classes then we use \"categorical_crossentropy\"\n",
        "- Optimizer is a function that used to change the features of neural network such as learning rate (how the model learn with features) in order to reduce the losses. So the learning rate of neural network to reduce the losses is defined by optimizer.\n",
        "- We are setting metrics=accuracy because we are going to caluclate the percentage of correct predictions over all predictions on the validation set"
      ],
      "metadata": {
        "id": "NG9logkYcQ88"
      }
    },
    {
      "cell_type": "code",
      "source": [
        "model = tensorflow_based_model() # here we are calling the function of created model\n",
        "model.compile(loss='binary_crossentropy',optimizer=RMSprop(),metrics=['accuracy'])"
      ],
      "metadata": {
        "execution": {
          "iopub.status.busy": "2023-04-03T08:07:28.862457Z",
          "iopub.execute_input": "2023-04-03T08:07:28.862755Z",
          "iopub.status.idle": "2023-04-03T08:07:29.197013Z",
          "shell.execute_reply.started": "2023-04-03T08:07:28.862726Z",
          "shell.execute_reply": "2023-04-03T08:07:29.196099Z"
        },
        "trusted": true,
        "id": "AqAkAveHcQ88"
      },
      "execution_count": null,
      "outputs": []
    },
    {
      "cell_type": "markdown",
      "source": [
        "#### Training and validating with parameter tuning\n",
        "- We are feeding the training data and getting 10% data for validation from training data\n",
        "* We set the following parameters:\n",
        "- Batch size =80 so the model take 80 tweets in each iteration and train them. Batch size is a term used in machine learning and refers to the number of training examples utilized in one iteration.\n",
        "- Epochs =6 so the model will train on the data 6 times.Epoch is a term used in machine learning and indicates the number of passes of the entire training dataset the machine learning algorithm has completed.\n",
        "- We can choose batch_size, and epochs as we want so the good practice is to set some values and train the model if the model will not give the good results we can change it and then try again for the training of the model. We can repeat this process many time untill we will not get the good results and this process called as parameter tuning.\n"
      ],
      "metadata": {
        "id": "R5etZTbXcQ88"
      }
    },
    {
      "cell_type": "code",
      "source": [
        "history=model.fit(X_train,Y_train,batch_size=80,epochs=6, validation_split=0.1)# here we are starting the training of model by feeding the training data\n",
        "print('Training finished !!')"
      ],
      "metadata": {
        "execution": {
          "iopub.status.busy": "2023-04-03T08:07:29.198154Z",
          "iopub.execute_input": "2023-04-03T08:07:29.198483Z",
          "iopub.status.idle": "2023-04-03T08:21:48.133043Z",
          "shell.execute_reply.started": "2023-04-03T08:07:29.198452Z",
          "shell.execute_reply": "2023-04-03T08:21:48.131766Z"
        },
        "trusted": true,
        "colab": {
          "base_uri": "https://localhost:8080/"
        },
        "id": "tr-zqrpJcQ88",
        "outputId": "e6f7c120-8d5c-458c-8686-45e0d959a60b"
      },
      "execution_count": null,
      "outputs": [
        {
          "output_type": "stream",
          "name": "stdout",
          "text": [
            "Epoch 1/6\n",
            "315/315 [==============================] - 146s 457ms/step - loss: 0.6094 - accuracy: 0.6544 - val_loss: 0.5414 - val_accuracy: 0.7246\n",
            "Epoch 2/6\n",
            "315/315 [==============================] - 135s 427ms/step - loss: 0.5137 - accuracy: 0.7518 - val_loss: 0.5192 - val_accuracy: 0.7443\n",
            "Epoch 3/6\n",
            "315/315 [==============================] - 132s 419ms/step - loss: 0.5254 - accuracy: 0.7434 - val_loss: 0.5532 - val_accuracy: 0.7129\n",
            "Epoch 4/6\n",
            "315/315 [==============================] - 134s 425ms/step - loss: 0.4929 - accuracy: 0.7640 - val_loss: 0.5178 - val_accuracy: 0.7375\n",
            "Epoch 5/6\n",
            "315/315 [==============================] - 138s 438ms/step - loss: 0.4801 - accuracy: 0.7730 - val_loss: 0.5156 - val_accuracy: 0.7439\n",
            "Epoch 6/6\n",
            "315/315 [==============================] - 134s 427ms/step - loss: 0.4686 - accuracy: 0.7767 - val_loss: 0.5313 - val_accuracy: 0.7414\n",
            "Training finished !!\n"
          ]
        }
      ]
    },
    {
      "cell_type": "markdown",
      "source": [
        "<h1> We need to do all the above configurations to train the model. If we will not set all settings correctly then we could not get the desired results.</h1>"
      ],
      "metadata": {
        "id": "IIo5U75zcQ88"
      }
    },
    {
      "cell_type": "markdown",
      "source": [
        "#### Testing the Trained model on test data\n",
        "- Getting predictions/classifying the sentiments (positve/negative) on the test data using trained model."
      ],
      "metadata": {
        "id": "aQ72A5F4U0wr"
      }
    },
    {
      "cell_type": "code",
      "source": [
        "accr1 = model.evaluate(X_test,Y_test) #we are starting to test the model here"
      ],
      "metadata": {
        "id": "LlxD3pU9U0ws",
        "outputId": "8f9e087f-1441-43d9-8adc-3c7dffd219b8",
        "execution": {
          "iopub.status.busy": "2023-04-03T08:21:48.135145Z",
          "iopub.execute_input": "2023-04-03T08:21:48.136111Z",
          "iopub.status.idle": "2023-04-03T08:22:16.748346Z",
          "shell.execute_reply.started": "2023-04-03T08:21:48.13606Z",
          "shell.execute_reply": "2023-04-03T08:22:16.747021Z"
        },
        "trusted": true,
        "colab": {
          "base_uri": "https://localhost:8080/"
        }
      },
      "execution_count": null,
      "outputs": [
        {
          "output_type": "stream",
          "name": "stdout",
          "text": [
            "375/375 [==============================] - 28s 74ms/step - loss: 0.5257 - accuracy: 0.7440\n"
          ]
        }
      ]
    },
    {
      "cell_type": "markdown",
      "source": [
        "#### Accuracy\n",
        "- Accuracy is the number of correctly classify tweets from all the tweets of positive and negative.\n",
        "- For example, if the trained model classify the 70 tweets correct and 30 tweets wrong from total of 100 tweets then the accuracy score will be 70%.\n",
        "- Accuracy= Total number of correct predictions/Total number of predictions"
      ],
      "metadata": {
        "id": "h5ZOTOh14WKO"
      }
    },
    {
      "cell_type": "code",
      "source": [
        "print('Test set\\n  Accuracy: {:0.2f}'.format(accr1[1])) #the accuracy of the model on test data is given below"
      ],
      "metadata": {
        "id": "E2bQq4jaU0wt",
        "outputId": "f5207718-09b8-4d6f-9d53-d1f269cf14ba",
        "execution": {
          "iopub.status.busy": "2023-04-03T08:22:16.750445Z",
          "iopub.execute_input": "2023-04-03T08:22:16.750791Z",
          "iopub.status.idle": "2023-04-03T08:22:16.758308Z",
          "shell.execute_reply.started": "2023-04-03T08:22:16.75076Z",
          "shell.execute_reply": "2023-04-03T08:22:16.756728Z"
        },
        "trusted": true,
        "colab": {
          "base_uri": "https://localhost:8080/"
        }
      },
      "execution_count": null,
      "outputs": [
        {
          "output_type": "stream",
          "name": "stdout",
          "text": [
            "Test set\n",
            "  Accuracy: 0.74\n"
          ]
        }
      ]
    },
    {
      "cell_type": "markdown",
      "source": [
        "#### Getting prediction of the test data and then we will compare the true labels/classes of the data with predictions\n",
        "- As the model give probabilties so we are setting a threshold 0.5. More than 0.5 will be the positive tweets and lower will be negative tweets"
      ],
      "metadata": {
        "id": "RfFqxaxwcQ89"
      }
    },
    {
      "cell_type": "code",
      "source": [
        "y_pred = model.predict(X_test) #getting predictions on the trained model\n",
        "y_pred = (y_pred > 0.5)"
      ],
      "metadata": {
        "execution": {
          "iopub.status.busy": "2023-04-03T08:22:16.761132Z",
          "iopub.execute_input": "2023-04-03T08:22:16.762381Z",
          "iopub.status.idle": "2023-04-03T08:22:42.699811Z",
          "shell.execute_reply.started": "2023-04-03T08:22:16.76233Z",
          "shell.execute_reply": "2023-04-03T08:22:42.698716Z"
        },
        "trusted": true,
        "colab": {
          "base_uri": "https://localhost:8080/"
        },
        "id": "U4-FN_TMcQ89",
        "outputId": "c804a57f-2815-483d-c36e-335b9eddac57"
      },
      "execution_count": null,
      "outputs": [
        {
          "output_type": "stream",
          "name": "stdout",
          "text": [
            "375/375 [==============================] - 28s 74ms/step\n"
          ]
        }
      ]
    },
    {
      "cell_type": "markdown",
      "source": [
        "#### Confusion matrix\n",
        "- These are the evaluation measures to evaluate the performance of the model.\n",
        "- Dark blue boxes are the correct predictions with the trained model and sky blue boxes shows the wrong predictions.\n",
        "- 4610 tweets correctly predicted as negative sentiments. 1399 tweets predicted positive sentiments but that were actually negative sentiments.\n",
        "- 4247 tweets correctly predicted as postive sentiments. 1744 tweets predicted negative sentiments but that were actually positive sentiments."
      ],
      "metadata": {
        "id": "40MjbuBA7Og9"
      }
    },
    {
      "cell_type": "code",
      "source": [
        "print('\\n')\n",
        "print(\"confusion matrix\")\n",
        "print('\\n')\n",
        "CR=confusion_matrix(Y_test, y_pred)\n",
        "print(CR)\n",
        "print('\\n')\n",
        "\n",
        "fig, ax = plot_confusion_matrix(conf_mat=CR,figsize=(10, 10),\n",
        "                                show_absolute=True,\n",
        "                                show_normed=True,\n",
        "                                colorbar=True)\n",
        "plt.show()"
      ],
      "metadata": {
        "id": "WERD7KXs8YmQ",
        "outputId": "e267c680-9b8c-41ae-f314-b532a2869832",
        "execution": {
          "iopub.status.busy": "2023-04-03T08:22:42.701316Z",
          "iopub.execute_input": "2023-04-03T08:22:42.701958Z",
          "iopub.status.idle": "2023-04-03T08:22:43.004857Z",
          "shell.execute_reply.started": "2023-04-03T08:22:42.701924Z",
          "shell.execute_reply": "2023-04-03T08:22:43.003346Z"
        },
        "trusted": true,
        "colab": {
          "base_uri": "https://localhost:8080/",
          "height": 963
        }
      },
      "execution_count": null,
      "outputs": [
        {
          "output_type": "stream",
          "name": "stdout",
          "text": [
            "\n",
            "\n",
            "confusion matrix\n",
            "\n",
            "\n",
            "[[4519 1490]\n",
            " [1582 4409]]\n",
            "\n",
            "\n"
          ]
        },
        {
          "output_type": "display_data",
          "data": {
            "text/plain": [
              "<Figure size 1000x1000 with 2 Axes>"
            ],
            "image/png": "[encoded data removed]"
          },
          "metadata": {}
        }
      ]
    },
    {
      "cell_type": "markdown",
      "source": [
        "# ROC CURVE\n",
        "- ROC curve show the performance of the model as well.\n",
        "- We can see that the model started from the 0 percent predictions and then moved to true positive predictions that are correct\n",
        "- ROC curve (receiver operating characteristic curve) show the performance of a classification model at all the classification thresholds. ROC plots two parameters, True Positive Rate (correct predictions/classifications) False Positive Rate (wrong predictions/classifications)"
      ],
      "metadata": {
        "id": "wlWpCx_OXEIq"
      }
    },
    {
      "cell_type": "code",
      "source": [
        "fpr, tpr, thresholds = roc_curve(Y_test, y_pred)\n",
        "roc_auc = auc(fpr, tpr)\n",
        "plt.figure()\n",
        "plt.plot(fpr, tpr, color='darkorange', lw=1, label='ROC curve (area = %0.2f)' % roc_auc)\n",
        "plt.xlim([0.0, 1.0])\n",
        "plt.ylim([0.0, 1.05])\n",
        "plt.xlabel('False Positive Rate')\n",
        "plt.ylabel('True Positive Rate')\n",
        "plt.title('ROC CURVE')\n",
        "plt.legend(loc=\"lower right\")\n",
        "plt.show()"
      ],
      "metadata": {
        "id": "uypTDMUZXEIq",
        "outputId": "88ef34d9-92e9-43f2-c134-1e3de22039fe",
        "scrolled": true,
        "execution": {
          "iopub.status.busy": "2023-04-03T08:22:43.006745Z",
          "iopub.execute_input": "2023-04-03T08:22:43.00723Z",
          "iopub.status.idle": "2023-04-03T08:22:43.179625Z",
          "shell.execute_reply.started": "2023-04-03T08:22:43.007147Z",
          "shell.execute_reply": "2023-04-03T08:22:43.17843Z"
        },
        "trusted": true,
        "colab": {
          "base_uri": "https://localhost:8080/",
          "height": 477
        }
      },
      "execution_count": null,
      "outputs": [
        {
          "output_type": "display_data",
          "data": {
            "text/plain": [
              "<Figure size 640x480 with 1 Axes>"
            ],
            "image/png": "[encoded data removed]"
          },
          "metadata": {}
        }
      ]
    },
    {
      "cell_type": "markdown",
      "source": [
        "<div class=\"alert alert-block alert-success\">  \n",
        "<h1><center><strong>Conclusion</strong></center></h1>\n",
        "    <p>\n",
        "<li>We used the twitter sentiment analysis dataset and explored the data with different ways.</li>\n",
        "        <li>We prepared the text data of tweets by removing the unnecessary things.</li>\n",
        "          <li>We trained model based on tensorflow with all settings. </li>\n",
        "        <li>We evaluated thye model with different evaluation measures.</li>\n",
        "         <li>If you are interested to work on any text based project, you can simply apply the same methodolgy but might be you will need to change little settings like name of coloumns etc.</li>\n",
        "        <li>We worked on the classification problem and sepcifically we call it binary classification which is two class classification.</li>\n",
        "        </p>\n",
        "</div>"
      ],
      "metadata": {
        "id": "Ebg6Q-bLcQ8-"
      }
    }
  ]
}